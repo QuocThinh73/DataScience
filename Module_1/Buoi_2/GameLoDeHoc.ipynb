{
 "cells": [
  {
   "cell_type": "code",
   "execution_count": 116,
   "metadata": {},
   "outputs": [],
   "source": [
    "import random\n",
    "from IPython.display import clear_output"
   ]
  },
  {
   "cell_type": "code",
   "execution_count": 117,
   "metadata": {},
   "outputs": [],
   "source": [
    "def nhaptiencuoc(money):\n",
    "    tiencuoc = int(input(\"Nhập số tiền bạn muốc cược (tiền cược <= số tiền bạn có): \"))\n",
    "    while tiencuoc > money:\n",
    "        tiencuoc = int(input(\"Tiền cược vượt quá số tiền bạn có. Hãy nhập lại số tiền bạn muốn cược: \"))\n",
    "    return tiencuoc"
   ]
  },
  {
   "cell_type": "code",
   "execution_count": 118,
   "metadata": {},
   "outputs": [],
   "source": [
    "def nhapsolo():\n",
    "    solo = int(input(\"Nhập số lô bạn cược: \"))\n",
    "    while solo < 10 | solo > 99:\n",
    "        solo = int(input(\"Bạn đã nhập sai số lô. Hãy nhập lại số lô bạn cược: \"))\n",
    "    return solo"
   ]
  },
  {
   "cell_type": "code",
   "execution_count": 119,
   "metadata": {},
   "outputs": [],
   "source": [
    "def quayso():\n",
    "    lst = []\n",
    "    for i in range(7):\n",
    "        tmp = random.randint(10, 99)\n",
    "        lst.append(tmp)\n",
    "    return lst"
   ]
  },
  {
   "cell_type": "code",
   "execution_count": 120,
   "metadata": {},
   "outputs": [],
   "source": [
    "def ingiai(lst):\n",
    "    for i in range(7):\n",
    "        print(f\"Giải {i + 1}: {lst[i]}\")"
   ]
  },
  {
   "cell_type": "code",
   "execution_count": 121,
   "metadata": {},
   "outputs": [],
   "source": [
    "def check(solo, lst):\n",
    "    cnt = 0\n",
    "    for x in lst:\n",
    "        if solo == x:\n",
    "            cnt +=  1\n",
    "    return cnt"
   ]
  },
  {
   "cell_type": "code",
   "execution_count": 122,
   "metadata": {},
   "outputs": [],
   "source": [
    "def wannaStop():\n",
    "    option = int(input(\"Bạn muốn chơi tiếp hay dừng lại.\\n1. Chơi tiếp \\n2. Dừng lại\\nLựa chọn của bạn: \"))\n",
    "    while option != 1 and option != 2:\n",
    "        option = int(input(\"Bạn đã nhập sai. Xin vui lòng nhập lại: \"))\n",
    "    return option"
   ]
  },
  {
   "cell_type": "code",
   "execution_count": 123,
   "metadata": {},
   "outputs": [],
   "source": [
    "def choilo(money):\n",
    "    while (money > 0):\n",
    "        clear_output()\n",
    "        tiencuoc = nhaptiencuoc(money)\n",
    "        money -= tiencuoc\n",
    "        solo = nhapsolo()\n",
    "        lst = quayso()\n",
    "        ingiai(lst)\n",
    "        num = check(solo, lst)\n",
    "        if num == 0:\n",
    "            print(\"Chúc bạn may mắn lần sau!\")\n",
    "        else:\n",
    "            print(\"Chúc mừng bạn đã trúng giải.\")\n",
    "            money += tiencuoc * 70 * num\n",
    "        option = wannaStop()\n",
    "        if option == 2:\n",
    "            clear_output()\n",
    "            return money\n",
    "        clear_output()\n",
    "    print(\"Bạn đã hết tiền. Vui lòng nạp tiền để chơi tiếp.\")\n",
    "    return money"
   ]
  },
  {
   "cell_type": "code",
   "execution_count": 124,
   "metadata": {},
   "outputs": [],
   "source": [
    "def wannaStopAdd():\n",
    "    option = int(input(\"Bạn có muốn nạp tiền tiếp hay không?\\n0. Không\\n1. Có\\n Lựa chọn của bạn:\"))\n",
    "    while option != 0 and option != 1:\n",
    "        option = int(input(\"Bạn đã nhập sai. Xin vui lòng nhập lại: \"))\n",
    "    return option"
   ]
  },
  {
   "cell_type": "code",
   "execution_count": 125,
   "metadata": {},
   "outputs": [],
   "source": [
    "def naptien(money):\n",
    "    while True:\n",
    "        clear_output()\n",
    "        tiennap = int(input(\"Số tiền bạn muốn nạp:\"))\n",
    "        money += tiennap\n",
    "        option = wannaStopAdd()\n",
    "        if option == 0:\n",
    "            return money"
   ]
  },
  {
   "cell_type": "code",
   "execution_count": 126,
   "metadata": {},
   "outputs": [],
   "source": [
    "def main(iniMoney):\n",
    "    money = iniMoney\n",
    "    while True:\n",
    "        option = int(input(\"GAME LÔ ĐỀ HỌC\\n1. Chơi lô\\n2. Nạp tiền\\n3. Xem số tiền hiện có\\n4. Thoát game\\nLựa chọn: \"))\n",
    "        if option == 1:\n",
    "            clear_output()\n",
    "            money = choilo(money)\n",
    "        elif option == 2:\n",
    "            clear_output()\n",
    "            money = naptien(money)\n",
    "        elif option == 3:\n",
    "            clear_output()\n",
    "            print(\"Số tiền hiện có:\", money)\n",
    "        elif option == 4:\n",
    "            clear_output()\n",
    "            print(\"Tạm biệt bạn!!\")\n",
    "            return\n",
    "        else:\n",
    "            print(\"Bạn đã nhập sai. Mời bạn nhập lại lựa chọn:\")"
   ]
  },
  {
   "cell_type": "code",
   "execution_count": 127,
   "metadata": {},
   "outputs": [
    {
     "name": "stdout",
     "output_type": "stream",
     "text": [
      "Tạm biệt bạn!!\n"
     ]
    }
   ],
   "source": [
    "main(1000000)"
   ]
  }
 ],
 "metadata": {
  "kernelspec": {
   "display_name": "Python 3",
   "language": "python",
   "name": "python3"
  },
  "language_info": {
   "codemirror_mode": {
    "name": "ipython",
    "version": 3
   },
   "file_extension": ".py",
   "mimetype": "text/x-python",
   "name": "python",
   "nbconvert_exporter": "python",
   "pygments_lexer": "ipython3",
   "version": "3.11.4"
  }
 },
 "nbformat": 4,
 "nbformat_minor": 2
}
