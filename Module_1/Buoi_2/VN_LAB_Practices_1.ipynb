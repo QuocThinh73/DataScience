{
 "cells": [
  {
   "cell_type": "markdown",
   "metadata": {},
   "source": [
    "# Exercise 1"
   ]
  },
  {
   "cell_type": "code",
   "execution_count": 4,
   "metadata": {},
   "outputs": [
    {
     "name": "stdout",
     "output_type": "stream",
     "text": [
      "1.46 0.12\n"
     ]
    }
   ],
   "source": [
    "# Question 1\n",
    "r = float(input())\n",
    "i = r / 2.54\n",
    "f = i / 12\n",
    "i = format(i, \".2f\")\n",
    "f = format(f, \".2f\")\n",
    "print(i , f)\n"
   ]
  },
  {
   "cell_type": "code",
   "execution_count": 8,
   "metadata": {},
   "outputs": [
    {
     "name": "stdout",
     "output_type": "stream",
     "text": [
      "[9:22:28]\n"
     ]
    }
   ],
   "source": [
    "# Question 2\n",
    "s = int(input(\"Nhập số giây từ 0 tới 68399:\"))\n",
    "m = s // 60\n",
    "s %= 60\n",
    "h = m //60\n",
    "m %= 60\n",
    "print(f\"{h}:{m}:{s}\")"
   ]
  },
  {
   "cell_type": "code",
   "execution_count": 9,
   "metadata": {},
   "outputs": [
    {
     "name": "stdout",
     "output_type": "stream",
     "text": [
      "Số lớn nhất là: 7\n",
      "Số nhỏ nhất là: 2\n"
     ]
    }
   ],
   "source": [
    "# Question 3\n",
    "a = int(input())\n",
    "b = int(input())\n",
    "c = int(input())\n",
    "d = int(input())\n",
    "print(\"Số lớn nhất là:\", max(a, b, c, d))\n",
    "print(\"Số nhỏ nhất là:\", min(a, b, c, d))"
   ]
  },
  {
   "cell_type": "code",
   "execution_count": 10,
   "metadata": {},
   "outputs": [
    {
     "name": "stdout",
     "output_type": "stream",
     "text": [
      "-2\n",
      "Số thứ nhất nhỏ hơn số thứ hai\n"
     ]
    }
   ],
   "source": [
    "# Question 4\n",
    "a = int(input())\n",
    "b = int(input())\n",
    "print(a - b)\n",
    "if a > b:\n",
    "    print(\"Số thứ nhất lớn hơn số thứ hai\")\n",
    "elif a < b:\n",
    "    print(\"Số thứ nhất nhỏ hơn số thứ hai\")"
   ]
  },
  {
   "cell_type": "code",
   "execution_count": 11,
   "metadata": {},
   "outputs": [
    {
     "name": "stdout",
     "output_type": "stream",
     "text": [
      "a chia hết cho b\n"
     ]
    }
   ],
   "source": [
    "# Quesion 5\n",
    "a = int(input())\n",
    "b = int(input())\n",
    "if a % b == 0:\n",
    "    print(\"a chia hết cho b\")\n",
    "else:\n",
    "    print(\"a không chia hết cho b\")"
   ]
  },
  {
   "cell_type": "code",
   "execution_count": 12,
   "metadata": {},
   "outputs": [
    {
     "name": "stdout",
     "output_type": "stream",
     "text": [
      "Học lực của sinh viên là giỏi\n"
     ]
    }
   ],
   "source": [
    "# Question 6\n",
    "math = float(input())\n",
    "phy = float(input())\n",
    "che = float(input())\n",
    "average = (math * 2 + phy + che) / 4\n",
    "s = \"\"\n",
    "if average >= 9:\n",
    "    s = \"xuất sắc\"\n",
    "elif average >= 8:\n",
    "    s = \"giỏi\"\n",
    "elif average >= 7:\n",
    "    s = \"khá\"\n",
    "elif average >= 6:\n",
    "    s = \"trung bình khá\"\n",
    "elif average >= 5:\n",
    "    s = \"trung bình\"\n",
    "else:\n",
    "    s = \"yếu\"\n",
    "print(f\"Học lực của sinh viên là {s}\")"
   ]
  },
  {
   "cell_type": "markdown",
   "metadata": {},
   "source": [
    "# Exercise 2"
   ]
  },
  {
   "cell_type": "code",
   "execution_count": 3,
   "metadata": {},
   "outputs": [
    {
     "name": "stdout",
     "output_type": "stream",
     "text": [
      "32\n"
     ]
    }
   ],
   "source": [
    "# Question 1:\n",
    "n = int(input())\n",
    "sum = 0\n",
    "while n:\n",
    "    sum += n % 10\n",
    "    n //= 10\n",
    "print(sum)"
   ]
  },
  {
   "cell_type": "code",
   "execution_count": 11,
   "metadata": {},
   "outputs": [
    {
     "name": "stdout",
     "output_type": "stream",
     "text": [
      "2 x 2 x 17 x 5563\n"
     ]
    }
   ],
   "source": [
    "# Question 2:\n",
    "def prime(n):\n",
    "    if n < 2:\n",
    "        return False\n",
    "    for i in range(2, n // 2 + 1):\n",
    "        if n % i == 0:\n",
    "            return False\n",
    "    return True\n",
    "\n",
    "n = int(input())\n",
    "cnt = 2\n",
    "lst = []\n",
    "while n != 1:\n",
    "    if n % cnt == 0:\n",
    "        lst.append(cnt)\n",
    "        n //= cnt\n",
    "    else:\n",
    "        cnt += 1\n",
    "        while not prime(cnt) & cnt < n:\n",
    "            cnt += 1\n",
    "for i in range(len(lst) - 1):\n",
    "    print(lst[i], \"x\", end=\" \")\n",
    "print(lst[len(lst) - 1])"
   ]
  },
  {
   "cell_type": "code",
   "execution_count": 27,
   "metadata": {},
   "outputs": [
    {
     "name": "stdout",
     "output_type": "stream",
     "text": [
      "2\n",
      "3\n",
      "5\n",
      "7\n"
     ]
    }
   ],
   "source": [
    "# Question 3:\n",
    "def prime(n):\n",
    "    if n < 2:\n",
    "        return False\n",
    "    for i in range(2, n // 2 + 1):\n",
    "        if n % i == 0:\n",
    "            return False\n",
    "    return True\n",
    "\n",
    "n = int(input())\n",
    "for i in range(2, n):\n",
    "    if prime(i):\n",
    "        print(i)\n"
   ]
  },
  {
   "cell_type": "code",
   "execution_count": 28,
   "metadata": {},
   "outputs": [
    {
     "name": "stdout",
     "output_type": "stream",
     "text": [
      "2\n",
      "3\n",
      "5\n",
      "7\n",
      "11\n",
      "13\n",
      "17\n",
      "19\n",
      "23\n",
      "29\n"
     ]
    }
   ],
   "source": [
    "# Question 4:\n",
    "def prime(n):\n",
    "    if n < 2:\n",
    "        return False\n",
    "    for i in range(2, n // 2 + 1):\n",
    "        if n % i == 0:\n",
    "            return False\n",
    "    return True\n",
    "\n",
    "n = int(input())\n",
    "cnt = 2\n",
    "while n:\n",
    "    if prime(cnt):\n",
    "        print(cnt)\n",
    "        n -= 1\n",
    "    cnt += 1"
   ]
  },
  {
   "cell_type": "code",
   "execution_count": 6,
   "metadata": {},
   "outputs": [
    {
     "name": "stdout",
     "output_type": "stream",
     "text": [
      "29\n",
      "58\n"
     ]
    }
   ],
   "source": [
    "# Question 5:\n",
    "def ucln(a, b):\n",
    "    for i in range(min(a, b), 0, -1):\n",
    "        if a % i == 0 and b % i == 0:\n",
    "            return i\n",
    "\n",
    "def bcnn(a, b):\n",
    "    for i in range(max(a, b), a * b + 1):\n",
    "        if i % a == 0 and i % b == 0:\n",
    "            return i\n",
    "        \n",
    "a = int(input())\n",
    "b = int(input())\n",
    "print(ucln(a, b))\n",
    "print(bcnn(a, b))"
   ]
  },
  {
   "cell_type": "code",
   "execution_count": 8,
   "metadata": {},
   "outputs": [
    {
     "name": "stdout",
     "output_type": "stream",
     "text": [
      "5\n"
     ]
    }
   ],
   "source": [
    "# Question 6:\n",
    "def fibo(n):\n",
    "    if n == 0 or n == 1:\n",
    "        return 1\n",
    "    return fibo(n - 1) + fibo(n - 2)\n",
    "\n",
    "n = int(input())\n",
    "print(n)"
   ]
  },
  {
   "cell_type": "code",
   "execution_count": 10,
   "metadata": {},
   "outputs": [
    {
     "name": "stdout",
     "output_type": "stream",
     "text": [
      "2\n",
      "3\n",
      "5\n",
      "13\n"
     ]
    }
   ],
   "source": [
    "# Question 7:\n",
    "def fibo(n):\n",
    "    if n == 0 or n == 1:\n",
    "        return 1\n",
    "    return fibo(n - 1) + fibo(n - 2)\n",
    "\n",
    "def prime(n):\n",
    "    if n < 2:\n",
    "        return False\n",
    "    for i in range(2, n // 2 + 1):\n",
    "        if n % i == 0:\n",
    "            return False\n",
    "    return True\n",
    "\n",
    "n = int(input())\n",
    "cnt = 2\n",
    "tmp = fibo(cnt)\n",
    "while (tmp < n):\n",
    "    if prime(tmp):\n",
    "        print(tmp)\n",
    "    cnt += 1\n",
    "    tmp = fibo(cnt)"
   ]
  },
  {
   "cell_type": "code",
   "execution_count": 20,
   "metadata": {},
   "outputs": [
    {
     "name": "stdout",
     "output_type": "stream",
     "text": [
      "23\n",
      "2 x 2 x 79 x 8627\n"
     ]
    }
   ],
   "source": [
    "# Question 8:\n",
    "def prime(n):\n",
    "    if n < 2:\n",
    "        return False\n",
    "    for i in range(2, n // 2 + 1):\n",
    "        if n % i == 0:\n",
    "            return False\n",
    "    return True\n",
    "\n",
    "def factor(n): # Phan tich thua so nguyen to\n",
    "    cnt = 2\n",
    "    lst = []\n",
    "    while n != 1:\n",
    "        if n % cnt == 0:\n",
    "            lst.append(cnt)\n",
    "            n //= cnt\n",
    "        else:\n",
    "            cnt += 1\n",
    "            while not prime(cnt) & cnt < n:\n",
    "                cnt += 1\n",
    "    return lst\n",
    "\n",
    "def sumChar(n): # Tinh tong cac chu so\n",
    "    sum = 0\n",
    "    while n:\n",
    "        sum += n % 10\n",
    "        n //= 10\n",
    "    return sum\n",
    "\n",
    "n = int(input())\n",
    "print(sumChar(n))\n",
    "lst = factor(n)\n",
    "for i in range(len(lst) - 1):\n",
    "    print(lst[i], \"x\", end=\" \")\n",
    "print(lst[len(lst) - 1])"
   ]
  },
  {
   "cell_type": "code",
   "execution_count": 24,
   "metadata": {},
   "outputs": [
    {
     "name": "stdout",
     "output_type": "stream",
     "text": [
      "[1, 2, 4, 7, 14, 28]\n",
      "n có tổng cộng 6 ước số\n",
      "[2, 7]\n"
     ]
    }
   ],
   "source": [
    "# Question 9\n",
    "def prime(n):\n",
    "    if n < 2:\n",
    "        return False\n",
    "    for i in range(2, n // 2 + 1):\n",
    "        if n % i == 0:\n",
    "            return False\n",
    "    return True\n",
    "\n",
    "def uoc(n):\n",
    "    res = []\n",
    "    for i in range(1, n + 1):\n",
    "        if n % i == 0:\n",
    "            res.append(i)\n",
    "    return res\n",
    "\n",
    "n = int(input())\n",
    "res = uoc(n)\n",
    "print(res)\n",
    "print(f\"n có tổng cộng {len(res)} ước số\")\n",
    "res_prime = []\n",
    "for x in res:\n",
    "    if prime(x):\n",
    "        res_prime.append(x)\n",
    "print(res_prime)"
   ]
  },
  {
   "cell_type": "code",
   "execution_count": 39,
   "metadata": {},
   "outputs": [
    {
     "name": "stdout",
     "output_type": "stream",
     "text": [
      "Em Yeu Aivietnam\n"
     ]
    }
   ],
   "source": [
    "# Question 10:\n",
    "str = input()\n",
    "words = str.split()\n",
    "for i in range(len(words)):\n",
    "    words[i] = words[i].capitalize()\n",
    "str = \" \".join(words)\n",
    "print(str)"
   ]
  },
  {
   "cell_type": "code",
   "execution_count": 40,
   "metadata": {},
   "outputs": [
    {
     "name": "stdout",
     "output_type": "stream",
     "text": [
      "hong\n",
      "22\n"
     ]
    }
   ],
   "source": [
    "# Question 11:\n",
    "str = input()\n",
    "words = str.split()\n",
    "res = \"\"\n",
    "resLen = 0\n",
    "for word in words:\n",
    "    if len(word) > resLen:\n",
    "        resLen = len(word)\n",
    "for word in words:\n",
    "    if len(word) == resLen:\n",
    "        res = word\n",
    "        break\n",
    "print(res)\n",
    "print(str.find(res))"
   ]
  },
  {
   "cell_type": "markdown",
   "metadata": {},
   "source": [
    "# Exercise 3"
   ]
  },
  {
   "cell_type": "code",
   "execution_count": 45,
   "metadata": {},
   "outputs": [
    {
     "name": "stdout",
     "output_type": "stream",
     "text": [
      "* \n",
      "* * \n",
      "* * * \n",
      "* * * * \n",
      "* * * * * \n",
      "* * * * * * \n",
      "* * * * * * * \n",
      "* * * * * * * * \n"
     ]
    }
   ],
   "source": [
    "# Question 1.a (for):\n",
    "n = 8\n",
    "for i in range(1, n + 1):\n",
    "    for j in range(1, i + 1):\n",
    "        print(\"*\", end=\" \")\n",
    "    print()"
   ]
  },
  {
   "cell_type": "code",
   "execution_count": 50,
   "metadata": {},
   "outputs": [
    {
     "name": "stdout",
     "output_type": "stream",
     "text": [
      "* \n",
      "* * \n",
      "* * * \n",
      "* * * * \n",
      "* * * * * \n",
      "* * * * * * \n",
      "* * * * * * * \n",
      "* * * * * * * * \n"
     ]
    }
   ],
   "source": [
    "# Question 1.a (while):\n",
    "n = 8\n",
    "i = 1\n",
    "while i <= n:\n",
    "    j = 1\n",
    "    while j <= i:\n",
    "        print(\"*\", end=\" \")\n",
    "        j += 1\n",
    "    print()\n",
    "    i += 1"
   ]
  },
  {
   "cell_type": "code",
   "execution_count": 53,
   "metadata": {},
   "outputs": [
    {
     "name": "stdout",
     "output_type": "stream",
     "text": [
      "* \n",
      "* * \n",
      "* * * \n",
      "* * * * \n",
      "* * * * * \n",
      "* * * * * * \n",
      "* * * * * * * \n",
      "* * * * * * * * \n"
     ]
    }
   ],
   "source": [
    "# Question 1.a (do while):\n",
    "n = 8\n",
    "i = 1\n",
    "while True:\n",
    "    j = 1\n",
    "    while True:\n",
    "        print(\"*\", end=\" \")\n",
    "        j += 1\n",
    "        if j > i:\n",
    "            break\n",
    "    print()\n",
    "    i += 1\n",
    "    if i > n:\n",
    "        break"
   ]
  },
  {
   "cell_type": "code",
   "execution_count": 54,
   "metadata": {},
   "outputs": [
    {
     "name": "stdout",
     "output_type": "stream",
     "text": [
      "* * * * * * * * \n",
      "* * * * * * * \n",
      "* * * * * * \n",
      "* * * * * \n",
      "* * * * \n",
      "* * * \n",
      "* * \n",
      "* \n"
     ]
    }
   ],
   "source": [
    "# Question 1.b (for):\n",
    "n = 8\n",
    "for i in range(n, 0, -1):\n",
    "    for j in range(i, 0, -1):\n",
    "        print(\"*\", end=\" \")\n",
    "    print()"
   ]
  },
  {
   "cell_type": "code",
   "execution_count": 56,
   "metadata": {},
   "outputs": [
    {
     "name": "stdout",
     "output_type": "stream",
     "text": [
      "* * * * * * * * \n",
      "* * * * * * * \n",
      "* * * * * * \n",
      "* * * * * \n",
      "* * * * \n",
      "* * * \n",
      "* * \n",
      "* \n"
     ]
    }
   ],
   "source": [
    "# Question 1.b (while):\n",
    "i = 8\n",
    "while i > 0:\n",
    "    j = i\n",
    "    while j > 0:\n",
    "        print(\"*\", end=\" \")\n",
    "        j -= 1\n",
    "    print()\n",
    "    i -= 1"
   ]
  },
  {
   "cell_type": "code",
   "execution_count": 58,
   "metadata": {},
   "outputs": [
    {
     "name": "stdout",
     "output_type": "stream",
     "text": [
      "* * * * * * * * \n",
      "* * * * * * * \n",
      "* * * * * * \n",
      "* * * * * \n",
      "* * * * \n",
      "* * * \n",
      "* * \n",
      "* \n"
     ]
    }
   ],
   "source": [
    "# Question 1.b (do while):\n",
    "i = 8\n",
    "while True:\n",
    "    j = i\n",
    "    while True:\n",
    "        print(\"*\", end=\" \")\n",
    "        j -= 1\n",
    "        if j == 0:\n",
    "            break\n",
    "    print()\n",
    "    i -= 1\n",
    "    if i == 0:\n",
    "        break"
   ]
  },
  {
   "cell_type": "code",
   "execution_count": 63,
   "metadata": {},
   "outputs": [
    {
     "name": "stdout",
     "output_type": "stream",
     "text": [
      "* * * * * * * * \n",
      "  * * * * * * * \n",
      "    * * * * * * \n",
      "      * * * * * \n",
      "        * * * * \n",
      "          * * * \n",
      "            * * \n",
      "              * \n"
     ]
    }
   ],
   "source": [
    "# Question 1.c (for):\n",
    "n = 8\n",
    "cnt = 0\n",
    "for i in range(1, n + 1):\n",
    "    for j in range(1, n + 1):\n",
    "        if j <= cnt:\n",
    "            print(\" \", end=\" \")\n",
    "        else:\n",
    "            print(\"*\", end=\" \")\n",
    "    print()\n",
    "    cnt += 1"
   ]
  },
  {
   "cell_type": "code",
   "execution_count": 64,
   "metadata": {},
   "outputs": [
    {
     "name": "stdout",
     "output_type": "stream",
     "text": [
      "* * * * * * * * \n",
      "  * * * * * * * \n",
      "    * * * * * * \n",
      "      * * * * * \n",
      "        * * * * \n",
      "          * * * \n",
      "            * * \n",
      "              * \n"
     ]
    }
   ],
   "source": [
    "# Question 1.c (while):\n",
    "n = 8\n",
    "i = 1\n",
    "cnt = 0\n",
    "while i <= n:\n",
    "    j = 1\n",
    "    while j <= n:\n",
    "        if j <= cnt:\n",
    "            print(\" \", end=\" \")\n",
    "        else:\n",
    "            print(\"*\", end=\" \")\n",
    "        j += 1\n",
    "    print()\n",
    "    i += 1\n",
    "    cnt += 1"
   ]
  },
  {
   "cell_type": "code",
   "execution_count": 65,
   "metadata": {},
   "outputs": [
    {
     "name": "stdout",
     "output_type": "stream",
     "text": [
      "* * * * * * * * \n",
      "  * * * * * * * \n",
      "    * * * * * * \n",
      "      * * * * * \n",
      "        * * * * \n",
      "          * * * \n",
      "            * * \n",
      "              * \n"
     ]
    }
   ],
   "source": [
    "# Question 1.c (do while):\n",
    "n = 8\n",
    "i = 1\n",
    "cnt = 0\n",
    "while True:\n",
    "    j = 1\n",
    "    while True:\n",
    "        if j <= cnt:\n",
    "            print(\" \", end=\" \")\n",
    "        else:\n",
    "            print(\"*\", end=\" \")\n",
    "        j += 1\n",
    "        if j > n:\n",
    "            break\n",
    "    print()\n",
    "    i += 1\n",
    "    cnt += 1\n",
    "    if i > n:\n",
    "        break"
   ]
  },
  {
   "cell_type": "code",
   "execution_count": 66,
   "metadata": {},
   "outputs": [
    {
     "name": "stdout",
     "output_type": "stream",
     "text": [
      "              * \n",
      "            * * \n",
      "          * * * \n",
      "        * * * * \n",
      "      * * * * * \n",
      "    * * * * * * \n",
      "  * * * * * * * \n",
      "* * * * * * * * \n"
     ]
    }
   ],
   "source": [
    "# Question 1.d (for):\n",
    "n = 8\n",
    "cnt = 7\n",
    "for i in range(1, n + 1):\n",
    "    for j in range(1, n + 1):\n",
    "        if j <= cnt:\n",
    "            print(\" \", end=\" \")\n",
    "        else:\n",
    "            print(\"*\", end=\" \")\n",
    "    print()\n",
    "    cnt -= 1"
   ]
  },
  {
   "cell_type": "code",
   "execution_count": 67,
   "metadata": {},
   "outputs": [
    {
     "name": "stdout",
     "output_type": "stream",
     "text": [
      "              * \n",
      "            * * \n",
      "          * * * \n",
      "        * * * * \n",
      "      * * * * * \n",
      "    * * * * * * \n",
      "  * * * * * * * \n",
      "* * * * * * * * \n"
     ]
    }
   ],
   "source": [
    "# Question 1.d (while):\n",
    "n = 8\n",
    "i = 1\n",
    "cnt = 7\n",
    "while i <= n:\n",
    "    j = 1\n",
    "    while j <= n:\n",
    "        if j <= cnt:\n",
    "            print(\" \", end=\" \")\n",
    "        else:\n",
    "            print(\"*\", end=\" \")\n",
    "        j += 1\n",
    "    print()\n",
    "    i += 1\n",
    "    cnt -= 1"
   ]
  },
  {
   "cell_type": "code",
   "execution_count": 68,
   "metadata": {},
   "outputs": [
    {
     "name": "stdout",
     "output_type": "stream",
     "text": [
      "              * \n",
      "            * * \n",
      "          * * * \n",
      "        * * * * \n",
      "      * * * * * \n",
      "    * * * * * * \n",
      "  * * * * * * * \n",
      "* * * * * * * * \n"
     ]
    }
   ],
   "source": [
    "# Question 1.d (do while):\n",
    "n = 8\n",
    "i = 1\n",
    "cnt = 7\n",
    "while True:\n",
    "    j = 1\n",
    "    while True:\n",
    "        if j <= cnt:\n",
    "            print(\" \", end=\" \")\n",
    "        else:\n",
    "            print(\"*\", end=\" \")\n",
    "        j += 1\n",
    "        if j > n:\n",
    "            break\n",
    "    print()\n",
    "    i += 1\n",
    "    cnt -= 1\n",
    "    if i > n:\n",
    "        break"
   ]
  },
  {
   "cell_type": "code",
   "execution_count": 44,
   "metadata": {},
   "outputs": [
    {
     "name": "stdout",
     "output_type": "stream",
     "text": [
      "720\n"
     ]
    }
   ],
   "source": [
    "# Question 2:\n",
    "def giaithua(n):\n",
    "    if n == 0:\n",
    "        return 1\n",
    "    return n * giaithua(n - 1)\n",
    "\n",
    "n = int(input())\n",
    "print(giaithua(n))"
   ]
  }
 ],
 "metadata": {
  "kernelspec": {
   "display_name": "Python 3",
   "language": "python",
   "name": "python3"
  },
  "language_info": {
   "codemirror_mode": {
    "name": "ipython",
    "version": 3
   },
   "file_extension": ".py",
   "mimetype": "text/x-python",
   "name": "python",
   "nbconvert_exporter": "python",
   "pygments_lexer": "ipython3",
   "version": "3.11.4"
  }
 },
 "nbformat": 4,
 "nbformat_minor": 2
}
