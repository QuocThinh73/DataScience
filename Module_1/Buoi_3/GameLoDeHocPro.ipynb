{
 "cells": [
  {
   "cell_type": "code",
   "execution_count": 99,
   "metadata": {},
   "outputs": [],
   "source": [
    "import random\n",
    "from IPython.display import clear_output"
   ]
  },
  {
   "cell_type": "code",
   "execution_count": 100,
   "metadata": {},
   "outputs": [],
   "source": [
    "def nhaptiencuoc(money):\n",
    "    tiencuoc = int(input(\"Nhập số tiền bạn muốc cược (tiền cược <= số tiền bạn có): \"))\n",
    "    while tiencuoc > money:\n",
    "        tiencuoc = int(input(\"Tiền cược vượt quá số tiền bạn có. Hãy nhập lại số tiền bạn muốn cược: \"))\n",
    "    return tiencuoc"
   ]
  },
  {
   "cell_type": "code",
   "execution_count": 101,
   "metadata": {},
   "outputs": [],
   "source": [
    "def nhapsolo():\n",
    "    while True:\n",
    "        soLo = str(input(\"Nhập các số lô bạn cược, cách nhau bởi dấu phẩy: \"))\n",
    "        lstSoLo = soLo.split(\",\")\n",
    "        hopLe = True\n",
    "        for soLo in lstSoLo:\n",
    "            if len(soLo) != 2 or not soLo.isdigit():\n",
    "                print(\"Số lô nhập không hợp lệ. Vui lòng nhập lại.\")\n",
    "                hopLe = False\n",
    "                break\n",
    "        if hopLe:\n",
    "            return lstSoLo"
   ]
  },
  {
   "cell_type": "code",
   "execution_count": 102,
   "metadata": {},
   "outputs": [],
   "source": [
    "def quayso():\n",
    "    danhSachGiai = {}\n",
    "    tenGiai = [\"GIẢI NHẤT\", \"GIẢI NHÌ\", \"GIẢI BA\", \"GIẢI TƯ\", \"GIẢI NĂM\", \"GIẢI SÁU\", \"GIẢI BẢY\"]\n",
    "    for i in range(7):\n",
    "        s = \"\"\n",
    "        for j in range(5):\n",
    "            s += str(random.randint(0, 9))\n",
    "        danhSachGiai[tenGiai[i]] = s\n",
    "    return danhSachGiai"
   ]
  },
  {
   "cell_type": "code",
   "execution_count": 103,
   "metadata": {},
   "outputs": [],
   "source": [
    "def ingiai(danhSachGiai):\n",
    "    for key, value in danhSachGiai.items():\n",
    "        print(f\"{key}: {value}\")"
   ]
  },
  {
   "cell_type": "code",
   "execution_count": 104,
   "metadata": {},
   "outputs": [],
   "source": [
    "def check(danhSachSoLo, danhSachGiai):\n",
    "    cnt = 0\n",
    "    for soLo in danhSachSoLo:\n",
    "        for key, value in danhSachGiai.items():\n",
    "            if soLo == value[-2:]:\n",
    "                cnt +=  1\n",
    "    return cnt"
   ]
  },
  {
   "cell_type": "code",
   "execution_count": 105,
   "metadata": {},
   "outputs": [],
   "source": [
    "def wannaStop():\n",
    "    option = int(input(\"Bạn muốn chơi tiếp hay dừng lại.\\n1. Chơi tiếp \\n2. Dừng lại\\nLựa chọn của bạn: \"))\n",
    "    while option != 1 and option != 2:\n",
    "        option = int(input(\"Bạn đã nhập sai. Xin vui lòng nhập lại: \"))\n",
    "    return option"
   ]
  },
  {
   "cell_type": "code",
   "execution_count": 106,
   "metadata": {},
   "outputs": [],
   "source": [
    "def choilo(money):\n",
    "    while (money > 0):\n",
    "        clear_output()\n",
    "        tiencuoc = nhaptiencuoc(money)\n",
    "        danhSachSoLo = nhapsolo()\n",
    "        money -= tiencuoc * len(danhSachSoLo)\n",
    "        danhSachGiai = quayso()\n",
    "        ingiai(danhSachGiai)\n",
    "        num = check(danhSachSoLo, danhSachGiai)\n",
    "        if num == 0:\n",
    "            print(\"Chúc bạn may mắn lần sau!\")\n",
    "        else:\n",
    "            print(\"Chúc mừng bạn đã trúng giải.\")\n",
    "            money += tiencuoc * 70 * num\n",
    "        option = wannaStop()\n",
    "        if option == 2:\n",
    "            clear_output()\n",
    "            return money\n",
    "        clear_output()\n",
    "    print(\"Bạn đã hết tiền. Vui lòng nạp tiền để chơi tiếp.\")\n",
    "    return money"
   ]
  },
  {
   "cell_type": "code",
   "execution_count": 107,
   "metadata": {},
   "outputs": [],
   "source": [
    "def wannaStopAdd():\n",
    "    option = int(input(\"Bạn có muốn nạp tiền tiếp hay không?\\n0. Không\\n1. Có\\n Lựa chọn của bạn:\"))\n",
    "    while option != 0 and option != 1:\n",
    "        option = int(input(\"Bạn đã nhập sai. Xin vui lòng nhập lại: \"))\n",
    "    return option"
   ]
  },
  {
   "cell_type": "code",
   "execution_count": 108,
   "metadata": {},
   "outputs": [],
   "source": [
    "def naptien(money):\n",
    "    while True:\n",
    "        clear_output()\n",
    "        tiennap = int(input(\"Số tiền bạn muốn nạp:\"))\n",
    "        money += tiennap\n",
    "        option = wannaStopAdd()\n",
    "        if option == 0:\n",
    "            return money"
   ]
  },
  {
   "cell_type": "code",
   "execution_count": 109,
   "metadata": {},
   "outputs": [],
   "source": [
    "def dangNhap():\n",
    "    global dang_nhap_status\n",
    "    print(\"GAME LÔ ĐỀ HỌC\")\n",
    "    print(\"Vui lòng đăng nhập để chơi game\")\n",
    "    while True:\n",
    "        username = input(\"Nhập username: \")\n",
    "        password = input(\"Nhập password: \")\n",
    "        if username == \"admin\" and password == \"admin\":\n",
    "            dang_nhap_status = True\n",
    "            break\n",
    "        else:\n",
    "            print(\"Sai tên người dùng hoặc mật khẩu, vui lòng thử lại.\")"
   ]
  },
  {
   "cell_type": "code",
   "execution_count": 110,
   "metadata": {},
   "outputs": [],
   "source": [
    "def main(iniMoney):\n",
    "    money = iniMoney\n",
    "    global dang_nhap_status\n",
    "    if dang_nhap_status == False:\n",
    "        dangNhap()\n",
    "    while True:\n",
    "        option = int(input(\"GAME LÔ ĐỀ HỌC\\n1. Chơi lô\\n2. Nạp tiền\\n3. Xem số tiền hiện có\\n4. Đăng xuất\\nLựa chọn: \"))\n",
    "        if option == 1:\n",
    "            clear_output()\n",
    "            money = choilo(money)\n",
    "        elif option == 2:\n",
    "            clear_output()\n",
    "            money = naptien(money)\n",
    "        elif option == 3:\n",
    "            clear_output()\n",
    "            print(\"Số tiền hiện có:\", money)\n",
    "        elif option == 4:\n",
    "            clear_output()\n",
    "            print(\"Bạn đã đăng xuất!!\")\n",
    "            return\n",
    "        else:\n",
    "            print(\"Bạn đã nhập sai. Mời bạn nhập lại lựa chọn:\")"
   ]
  },
  {
   "cell_type": "code",
   "execution_count": 111,
   "metadata": {},
   "outputs": [
    {
     "ename": "TypeError",
     "evalue": "unhashable type: 'list'",
     "output_type": "error",
     "traceback": [
      "\u001b[1;31m---------------------------------------------------------------------------\u001b[0m",
      "\u001b[1;31mTypeError\u001b[0m                                 Traceback (most recent call last)",
      "Cell \u001b[1;32mIn[111], line 2\u001b[0m\n\u001b[0;32m      1\u001b[0m dang_nhap_status \u001b[38;5;241m=\u001b[39m \u001b[38;5;28;01mFalse\u001b[39;00m\n\u001b[1;32m----> 2\u001b[0m \u001b[43mmain\u001b[49m\u001b[43m(\u001b[49m\u001b[38;5;241;43m1000000\u001b[39;49m\u001b[43m)\u001b[49m\n",
      "Cell \u001b[1;32mIn[110], line 10\u001b[0m, in \u001b[0;36mmain\u001b[1;34m(iniMoney)\u001b[0m\n\u001b[0;32m      8\u001b[0m \u001b[38;5;28;01mif\u001b[39;00m option \u001b[38;5;241m==\u001b[39m \u001b[38;5;241m1\u001b[39m:\n\u001b[0;32m      9\u001b[0m     clear_output()\n\u001b[1;32m---> 10\u001b[0m     money \u001b[38;5;241m=\u001b[39m \u001b[43mchoilo\u001b[49m\u001b[43m(\u001b[49m\u001b[43mmoney\u001b[49m\u001b[43m)\u001b[49m\n\u001b[0;32m     11\u001b[0m \u001b[38;5;28;01melif\u001b[39;00m option \u001b[38;5;241m==\u001b[39m \u001b[38;5;241m2\u001b[39m:\n\u001b[0;32m     12\u001b[0m     clear_output()\n",
      "Cell \u001b[1;32mIn[106], line 7\u001b[0m, in \u001b[0;36mchoilo\u001b[1;34m(money)\u001b[0m\n\u001b[0;32m      5\u001b[0m danhSachSoLo \u001b[38;5;241m=\u001b[39m nhapsolo()\n\u001b[0;32m      6\u001b[0m money \u001b[38;5;241m-\u001b[39m\u001b[38;5;241m=\u001b[39m tiencuoc \u001b[38;5;241m*\u001b[39m \u001b[38;5;28mlen\u001b[39m(danhSachSoLo)\n\u001b[1;32m----> 7\u001b[0m danhSachGiai \u001b[38;5;241m=\u001b[39m \u001b[43mquayso\u001b[49m\u001b[43m(\u001b[49m\u001b[43m)\u001b[49m\n\u001b[0;32m      8\u001b[0m ingiai(danhSachGiai)\n\u001b[0;32m      9\u001b[0m num \u001b[38;5;241m=\u001b[39m check(danhSachSoLo, danhSachGiai)\n",
      "Cell \u001b[1;32mIn[102], line 8\u001b[0m, in \u001b[0;36mquayso\u001b[1;34m()\u001b[0m\n\u001b[0;32m      6\u001b[0m     \u001b[38;5;28;01mfor\u001b[39;00m j \u001b[38;5;129;01min\u001b[39;00m \u001b[38;5;28mrange\u001b[39m(\u001b[38;5;241m5\u001b[39m):\n\u001b[0;32m      7\u001b[0m         s \u001b[38;5;241m+\u001b[39m\u001b[38;5;241m=\u001b[39m \u001b[38;5;28mstr\u001b[39m(random\u001b[38;5;241m.\u001b[39mrandint(\u001b[38;5;241m0\u001b[39m, \u001b[38;5;241m9\u001b[39m))\n\u001b[1;32m----> 8\u001b[0m     \u001b[43mdanhSachGiai\u001b[49m\u001b[43m[\u001b[49m\u001b[43mtenGiai\u001b[49m\u001b[43m]\u001b[49m \u001b[38;5;241m=\u001b[39m s\n\u001b[0;32m      9\u001b[0m \u001b[38;5;28;01mreturn\u001b[39;00m danhSachGiai\n",
      "\u001b[1;31mTypeError\u001b[0m: unhashable type: 'list'"
     ]
    }
   ],
   "source": [
    "dang_nhap_status = False\n",
    "main(1000000)"
   ]
  }
 ],
 "metadata": {
  "kernelspec": {
   "display_name": "Python 3",
   "language": "python",
   "name": "python3"
  },
  "language_info": {
   "codemirror_mode": {
    "name": "ipython",
    "version": 3
   },
   "file_extension": ".py",
   "mimetype": "text/x-python",
   "name": "python",
   "nbconvert_exporter": "python",
   "pygments_lexer": "ipython3",
   "version": "3.11.4"
  }
 },
 "nbformat": 4,
 "nbformat_minor": 2
}
